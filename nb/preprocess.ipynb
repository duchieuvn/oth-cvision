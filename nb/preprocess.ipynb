{
 "cells": [
  {
   "cell_type": "code",
   "execution_count": null,
   "id": "619647ba",
   "metadata": {},
   "outputs": [],
   "source": [
    "from PIL import Image\n",
    "import numpy as np\n",
    "from pathlib import Path\n",
    "\n",
    "# Đường dẫn tới thư mục mask gốc\n",
    "input_mask_dir = Path(\"VOCdevkit/VOC2012/SegmentationClass\")\n",
    "output_mask_dir = Path(\"VOCdevkit/VOC2012/SegmentationClass5\")\n",
    "output_mask_dir.mkdir(parents=True, exist_ok=True)\n",
    "\n",
    "# Mapping từ VOC label (0–20) → new class (0–4)\n",
    "VOC2FIVE_CLASS = {\n",
    "    15: 1,  # person → Person\n",
    "    3: 2, 8: 2, 10: 2, 12: 2, 13: 2, 17: 2,  # animals\n",
    "    1: 3, 2: 3, 4: 3, 6: 3, 7: 3, 14: 3, 19: 3,  # vehicles\n",
    "    5: 4, 9: 4, 11: 4, 16: 4, 18: 4, 20: 4  # objects\n",
    "    # background is default → 0\n",
    "}\n",
    "\n",
    "def convert_to_5class_mask(input_path, output_path):\n",
    "    mask = np.array(Image.open(input_path))\n",
    "    new_mask = np.zeros_like(mask, dtype=np.uint8)\n",
    "\n",
    "    for voc_label, new_class in VOC2FIVE_CLASS.items():\n",
    "        new_mask[mask == voc_label] = new_class\n",
    "\n",
    "    Image.fromarray(new_mask).save(output_path)\n",
    "\n",
    "# Chuyển tất cả mask\n",
    "for mask_path in sorted(input_mask_dir.glob(\"*.png\")):\n",
    "    output_path = output_mask_dir / mask_path.name\n",
    "    convert_to_5class_mask(mask_path, output_path)\n",
    "\n",
    "print(f\"✅ Done! Converted masks saved in: {output_mask_dir}\")\n"
   ]
  }
 ],
 "metadata": {
  "kernelspec": {
   "display_name": "Python 3",
   "language": "python",
   "name": "python3"
  },
  "language_info": {
   "name": "python",
   "version": "3.12.10"
  }
 },
 "nbformat": 4,
 "nbformat_minor": 5
}
