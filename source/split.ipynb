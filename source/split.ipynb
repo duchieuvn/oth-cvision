{
 "cells": [
  {
   "cell_type": "code",
   "execution_count": 1,
   "id": "9c39b978",
   "metadata": {},
   "outputs": [
    {
     "name": "stdout",
     "output_type": "stream",
     "text": [
      "✅ Đã chia lại val:\n",
      "New val: 724 ảnh\n",
      "New test: 725 ảnh\n"
     ]
    }
   ],
   "source": [
    "import random\n",
    "from pathlib import Path\n",
    "\n",
    "# Đường dẫn chứa file val.txt\n",
    "seg_dir = Path(\"../VOC2012_CUSTOM/ImageSets/Segmentation\")\n",
    "\n",
    "# Đọc file val.txt ban đầu\n",
    "with open(seg_dir / \"val.txt\") as f:\n",
    "    val_list = f.read().splitlines()\n",
    "\n",
    "# Chia 50/50 ngẫu nhiên\n",
    "random.seed(42)\n",
    "random.shuffle(val_list)\n",
    "\n",
    "mid = len(val_list) // 2\n",
    "new_val = sorted(val_list[:mid])\n",
    "new_test = sorted(val_list[mid:])\n",
    "\n",
    "# Ghi lại file\n",
    "with open(seg_dir / \"val.txt\", \"w\") as f:\n",
    "    f.write(\"\\n\".join(new_val) + \"\\n\")\n",
    "\n",
    "with open(seg_dir / \"test.txt\", \"w\") as f:\n",
    "    f.write(\"\\n\".join(new_test) + \"\\n\")\n",
    "\n",
    "print(f\"✅ Đã chia lại val:\")\n",
    "print(f\"New val: {len(new_val)} ảnh\")\n",
    "print(f\"New test: {len(new_test)} ảnh\")\n"
   ]
  }
 ],
 "metadata": {
  "kernelspec": {
   "display_name": "Python 3",
   "language": "python",
   "name": "python3"
  },
  "language_info": {
   "codemirror_mode": {
    "name": "ipython",
    "version": 3
   },
   "file_extension": ".py",
   "mimetype": "text/x-python",
   "name": "python",
   "nbconvert_exporter": "python",
   "pygments_lexer": "ipython3",
   "version": "3.12.10"
  }
 },
 "nbformat": 4,
 "nbformat_minor": 5
}
